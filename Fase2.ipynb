{
 "cells": [
  {
   "cell_type": "markdown",
   "metadata": {},
   "source": [
    "# Fase 2: Extracción de Detalles de Películas con Selenium"
   ]
  },
  {
   "cell_type": "markdown",
   "metadata": {},
   "source": [
    "WEBS\n",
    "- IMDB: https://www.imdb.com/\n",
    "- Rotten Tomatoes: https://www.rottentomatoes.com/"
   ]
  },
  {
   "cell_type": "markdown",
   "metadata": {},
   "source": [
    "- Puntuacion de IMDB (en caso de que la tenga). ✅\n",
    "\n",
    "- Puntuacion de Rotten Tomatoes (Tomatometer). ✅\n",
    "\n",
    "- Dirección (director/a o directore/as de cada película). ✅\n",
    "\n",
    "- Gionistas (de cada película). ✅\n",
    "\n",
    "- Argumento. ✅\n",
    "\n",
    "- Duración (en minutos). ✅\n",
    "\n",
    "- Nombre de la película. ✅"
   ]
  },
  {
   "cell_type": "markdown",
   "metadata": {},
   "source": [
    "1. Importamos librerías"
   ]
  },
  {
   "cell_type": "code",
   "execution_count": 1,
   "metadata": {},
   "outputs": [],
   "source": [
    "#Importamos las librerias necesarias\n",
    "from bs4 import BeautifulSoup\n",
    "import pandas as pd\n",
    "import requests\n",
    "import re\n",
    "from time import sleep\n",
    "\n",
    "#importamos librerias de selenium\n",
    "from selenium import webdriver\n",
    "from webdriver_manager.chrome import ChromeDriverManager\n",
    "from selenium.webdriver.common.keys import Keys\n",
    "from selenium.webdriver.support.ui import Select\n",
    "\n",
    "from selenium.webdriver.common.by import By\n",
    "\n",
    "# Importar librerías para pausar la ejecución\n",
    "# -----------------------------------------------------------------------\n",
    "from time import sleep  # Sleep se utiliza para pausar la ejecución del programa por un número de segundos.\n",
    "\n",
    "#Imoprtamos librería para ver el % de avance\n",
    "from tqdm import tqdm\n",
    "\n",
    "# Configuraciones\n",
    "# -----------------------------------------------------------------------\n",
    "pd.set_option('display.max_columns', None)  # Establece una opción de Pandas para mostrar todas las columnas de un DataFrame.\n",
    "\n",
    "from selenium import webdriver\n",
    "from selenium.webdriver.common.by import By\n",
    "from selenium.webdriver.support.ui import WebDriverWait\n",
    "from selenium.webdriver.support import expected_conditions as EC"
   ]
  },
  {
   "cell_type": "markdown",
   "metadata": {},
   "source": [
    "2. Importamos csv"
   ]
  },
  {
   "cell_type": "code",
   "execution_count": 45,
   "metadata": {},
   "outputs": [
    {
     "data": {
      "text/html": [
       "<div>\n",
       "<style scoped>\n",
       "    .dataframe tbody tr th:only-of-type {\n",
       "        vertical-align: middle;\n",
       "    }\n",
       "\n",
       "    .dataframe tbody tr th {\n",
       "        vertical-align: top;\n",
       "    }\n",
       "\n",
       "    .dataframe thead th {\n",
       "        text-align: right;\n",
       "    }\n",
       "</style>\n",
       "<table border=\"1\" class=\"dataframe\">\n",
       "  <thead>\n",
       "    <tr style=\"text-align: right;\">\n",
       "      <th></th>\n",
       "      <th>tipo_pelicula</th>\n",
       "      <th>titulo_pelicula</th>\n",
       "      <th>anno_estreno</th>\n",
       "      <th>mes_estreno</th>\n",
       "      <th>id_pelicula</th>\n",
       "      <th>genero_pelicula</th>\n",
       "    </tr>\n",
       "  </thead>\n",
       "  <tbody>\n",
       "    <tr>\n",
       "      <th>0</th>\n",
       "      <td>Movie</td>\n",
       "      <td>Rodney Cecil: Psycho Hero</td>\n",
       "      <td>2011</td>\n",
       "      <td>4</td>\n",
       "      <td>tt1929361</td>\n",
       "      <td>Comedy</td>\n",
       "    </tr>\n",
       "    <tr>\n",
       "      <th>1</th>\n",
       "      <td>Short</td>\n",
       "      <td>Object of Desire</td>\n",
       "      <td>2023</td>\n",
       "      <td>9</td>\n",
       "      <td>tt29009897</td>\n",
       "      <td>Drama</td>\n",
       "    </tr>\n",
       "    <tr>\n",
       "      <th>2</th>\n",
       "      <td>Short</td>\n",
       "      <td>Making Magic</td>\n",
       "      <td>2015</td>\n",
       "      <td>NaN</td>\n",
       "      <td>tt3407398</td>\n",
       "      <td>Comedy</td>\n",
       "    </tr>\n",
       "    <tr>\n",
       "      <th>3</th>\n",
       "      <td>Short</td>\n",
       "      <td>Significant Other</td>\n",
       "      <td>2018</td>\n",
       "      <td>2</td>\n",
       "      <td>tt8042420</td>\n",
       "      <td>Drama</td>\n",
       "    </tr>\n",
       "    <tr>\n",
       "      <th>4</th>\n",
       "      <td>Movie</td>\n",
       "      <td>Hosea: A Story of Hope and Forgiveness</td>\n",
       "      <td>2015</td>\n",
       "      <td>2</td>\n",
       "      <td>tt4209582</td>\n",
       "      <td>Drama</td>\n",
       "    </tr>\n",
       "    <tr>\n",
       "      <th>...</th>\n",
       "      <td>...</td>\n",
       "      <td>...</td>\n",
       "      <td>...</td>\n",
       "      <td>...</td>\n",
       "      <td>...</td>\n",
       "      <td>...</td>\n",
       "    </tr>\n",
       "    <tr>\n",
       "      <th>995</th>\n",
       "      <td>Short</td>\n",
       "      <td>Article 32</td>\n",
       "      <td>2012</td>\n",
       "      <td>10</td>\n",
       "      <td>tt2439330</td>\n",
       "      <td>Drama</td>\n",
       "    </tr>\n",
       "    <tr>\n",
       "      <th>996</th>\n",
       "      <td>Movie</td>\n",
       "      <td>The Mongolian Dream</td>\n",
       "      <td>2012</td>\n",
       "      <td>3</td>\n",
       "      <td>tt1979369</td>\n",
       "      <td>Drama</td>\n",
       "    </tr>\n",
       "    <tr>\n",
       "      <th>997</th>\n",
       "      <td>Short</td>\n",
       "      <td>Pop!</td>\n",
       "      <td>2011</td>\n",
       "      <td>7</td>\n",
       "      <td>tt2650758</td>\n",
       "      <td>Comedy</td>\n",
       "    </tr>\n",
       "    <tr>\n",
       "      <th>998</th>\n",
       "      <td>Movie</td>\n",
       "      <td>Hakki</td>\n",
       "      <td>2024</td>\n",
       "      <td>4</td>\n",
       "      <td>tt30810790</td>\n",
       "      <td>Drama</td>\n",
       "    </tr>\n",
       "    <tr>\n",
       "      <th>999</th>\n",
       "      <td>Short</td>\n",
       "      <td>Terror on wheels</td>\n",
       "      <td>2018</td>\n",
       "      <td>por estrenar</td>\n",
       "      <td>tt8480140</td>\n",
       "      <td>Drama</td>\n",
       "    </tr>\n",
       "  </tbody>\n",
       "</table>\n",
       "<p>1000 rows × 6 columns</p>\n",
       "</div>"
      ],
      "text/plain": [
       "    tipo_pelicula                         titulo_pelicula  anno_estreno  \\\n",
       "0           Movie               Rodney Cecil: Psycho Hero          2011   \n",
       "1           Short                        Object of Desire          2023   \n",
       "2           Short                            Making Magic          2015   \n",
       "3           Short                       Significant Other          2018   \n",
       "4           Movie  Hosea: A Story of Hope and Forgiveness          2015   \n",
       "..            ...                                     ...           ...   \n",
       "995         Short                              Article 32          2012   \n",
       "996         Movie                     The Mongolian Dream          2012   \n",
       "997         Short                                    Pop!          2011   \n",
       "998         Movie                                   Hakki          2024   \n",
       "999         Short                        Terror on wheels          2018   \n",
       "\n",
       "      mes_estreno id_pelicula genero_pelicula  \n",
       "0               4   tt1929361          Comedy  \n",
       "1               9  tt29009897           Drama  \n",
       "2             NaN   tt3407398          Comedy  \n",
       "3               2   tt8042420           Drama  \n",
       "4               2   tt4209582           Drama  \n",
       "..            ...         ...             ...  \n",
       "995            10   tt2439330           Drama  \n",
       "996             3   tt1979369           Drama  \n",
       "997             7   tt2650758          Comedy  \n",
       "998             4  tt30810790           Drama  \n",
       "999  por estrenar   tt8480140           Drama  \n",
       "\n",
       "[1000 rows x 6 columns]"
      ]
     },
     "execution_count": 45,
     "metadata": {},
     "output_type": "execute_result"
    }
   ],
   "source": [
    "#Importamos los datos de la Fase 1\n",
    "fase1=pd.read_csv('Fase1.csv')\n",
    "fase1"
   ]
  },
  {
   "cell_type": "markdown",
   "metadata": {},
   "source": [
    "3. Creamos zip, que utilizaremos en Rotten Tomatoes"
   ]
  },
  {
   "cell_type": "code",
   "execution_count": 46,
   "metadata": {},
   "outputs": [],
   "source": [
    "# Extraemos la información de la columna 'Id_peli' y la guardamos en la variable 'lista_id'\n",
    "lista_id = list(fase1['id_pelicula'])\n",
    "\n",
    "#Extraemos la información de las columnas 'Nombre' y 'Anno_estreno' y las guardamos en las variables 'lista_pelis_cortos' y 'annos_pelis_cortos'\n",
    "lista_nombre_pelis = list(fase1['titulo_pelicula'])\n",
    "lista_anno_pelis = list(fase1['anno_estreno'])\n",
    "#Unimos esas dos listas en un zip que utilizaremos para buscar dentro de Rotten Tomatoes\n",
    "zip_pelis_cortos= list(zip(lista_nombre_pelis, lista_anno_pelis))"
   ]
  },
  {
   "cell_type": "markdown",
   "metadata": {},
   "source": [
    "4. Creamos listas para DataFrame"
   ]
  },
  {
   "cell_type": "code",
   "execution_count": 47,
   "metadata": {},
   "outputs": [],
   "source": [
    "# creamos listas para almacenar la información obtetina de las webs\n",
    "lista_puntu_IMDB = []\n",
    "lista_puntu_tomato = []\n",
    "lista_dires = []\n",
    "lista_guionista = []\n",
    "lista_argumentos = []\n",
    "lista_duraciones = []"
   ]
  },
  {
   "cell_type": "markdown",
   "metadata": {},
   "source": [
    "5. Extraemos datos de IMDB"
   ]
  },
  {
   "cell_type": "code",
   "execution_count": 48,
   "metadata": {},
   "outputs": [
    {
     "name": "stderr",
     "output_type": "stream",
     "text": [
      "100%|██████████| 1000/1000 [1:53:31<00:00,  6.81s/it] \n"
     ]
    }
   ],
   "source": [
    "# Inicializa el navegador Chrome\n",
    "driver = webdriver.Chrome()\n",
    "\n",
    "# Navega a la página web \"http://www.imdb.com\"\n",
    "driver.get(\"http://www.imdb.com\")\n",
    "\n",
    "# Maximizar la ventana del navegador\n",
    "driver.maximize_window()\n",
    "\n",
    "# Acepta las cookies haciendo clic en el elemento con el selector CSS\n",
    "driver.find_element(\"css selector\", \"#__next > div > div > div.sc-jrcTuL.bPmWiM > div > button.icb-btn.sc-bcXHqe.sc-dkrFOg.sc-iBYQkv.dcvrLS.ddtuHe.dRCGjd\").click()\n",
    "\n",
    "sleep(5)\n",
    "\n",
    "#Iniciamos loop for para iterar en la lista de todas las películas\n",
    "for peli in tqdm(lista_id):\n",
    "\n",
    "    # Introducimos el número de ID de la peli en el buscador de la web\n",
    "    driver.find_element('css selector', '#suggestion-search').send_keys(peli, Keys.ENTER)\n",
    "    sleep(2)\n",
    "\n",
    "    #Buscamos la puntuación de cada película\n",
    "    try:\n",
    "        #La puntuación está en un botón. Extraemos el texto de ese botón\n",
    "        boton=driver.find_element('css selector', '#__next > main > div > section.ipc-page-background.ipc-page-background--base.sc-c41b9732-0.NeSef > section > div:nth-child(5) > section > section > div.sc-92625f35-3.frxYSZ > div.sc-3a4309f8-0.bjXIAP.sc-b7c53eda-1.iIQkEw > div > div:nth-child(1)').text\n",
    "        #Extraemos la puntuación del texto\n",
    "        parte_punt = boton.split('/')[0] #Esto devuelve un string con la estructura: 'PUNTUACIÓN EN IMDb\\n6,6\\n'\n",
    "        #Extraemos la puntuación del string: una secuencia de dígitos seguidos de coma y dígitos\n",
    "        patron_punt = r'(\\d+,\\d+)'\n",
    "        puntuacion_str=re.search(patron_punt, parte_punt).group(0) #Esto devuelve un string '6,6', así que lo pasamos a float\n",
    "        puntuacion_float=float(puntuacion_str.replace(',', '.'))\n",
    "        #Appendeamos la puntuación en la lista\n",
    "        lista_puntu_IMDB.append(puntuacion_float)\n",
    "\n",
    "    except:\n",
    "        lista_puntu_IMDB.append(None)\n",
    "\n",
    "\n",
    "    #Buscamos la información de los directores de cada película  \n",
    "    # Definimos los valores iniciales de nuestras variables para iniciar un loop while que serán:\n",
    "    # un contador i\n",
    "    i=0\n",
    "    #Iniciamos el loop while\n",
    "    while True:  \n",
    "        i+=1\n",
    "        # Iniciamos try/expect loop para que cuando no tengamos más directores dé error y salganmos del loop while\n",
    "        try:\n",
    "            lista_dires.append(driver.find_element('xpath', f'//*[@id=\"__next\"]/main/div/section[1]/section/div[3]/section/section/div[3]/div[2]/div[1]/section/div[2]/div/ul/li[1]/div/ul/li[{i}]/a').text)\n",
    "        except:\n",
    "            lista_dires.append(None)\n",
    "            break\n",
    "\n",
    "\n",
    "    #Buscamos la información de los guionistas de cada película  \n",
    "    # Definimos los valores iniciales de nuestras variables para iniciar un loop while que serán:\n",
    "    # un contador i\n",
    "    i=0\n",
    "    #Iniciamos el loop while\n",
    "    while True:  \n",
    "        i+=1\n",
    "        # Iniciamos try/expect loop para que cuando no tengamos más guionistas dé error y salganmos del loop while\n",
    "        try:\n",
    "            lista_guionista.append(driver.find_element('xpath', f'/html/body/div[2]/main/div/section[1]/section/div[3]/section/section/div[3]/div[2]/div[1]/section/div[2]/div/ul/li[2]/div/ul/li[{i}]/a').text)\n",
    "        except:\n",
    "            lista_guionista.append(None)\n",
    "            break\n",
    "\n",
    "\n",
    "    #Buscamos el argumento de cada película\n",
    "    #Empezamos un try/except loop per si hay películas que no tienen puntuación. En este caso appendearemos NULL en la lista\n",
    "    try:\n",
    "        lista_argumentos.append(driver.find_element(\"xpath\", '//*[@id=\"__next\"]/main/div/section[1]/section/div[3]/section/section/div[3]/div[2]/div[1]/section/p/span[3]').text)\n",
    "    except:          \n",
    "        lista_argumentos.append(None)\n",
    "\n",
    "\n",
    "    #Buscamos la duración de cada película en minutos \n",
    "    #Creamos lista en la que guardaremos los dígitos de las horas y los minutos\n",
    "    horas_y_minutos=[]\n",
    "\n",
    "    # Iniciamos try/expect loop para que busque la sección. Si la encuenta la appendea en seccion_duracion, de lo contrario, appendea None.\n",
    "    try:\n",
    "        duracion = driver.find_element('css selector', '#__next > main > div > section.ipc-page-background.ipc-page-background--base.sc-c41b9732-0.NeSef > section > div:nth-child(5) > section > section > div.sc-92625f35-3.frxYSZ > div.sc-b7c53eda-0.dUpRPQ > ul > li:nth-child(3)').text\n",
    "    except:\n",
    "        duracion = 'NULL'\n",
    "            \n",
    "    #De la sección, nos devuelve una lista con todos los campos. Hacemos un regex para extraer las horas y los minutos.\n",
    "    #Buscamos el patrón \"Xh Ymin\": un número seguido de 'h', seguido de 0 o más espacios, seguido de otro número y 'min'\n",
    "    patron = r'(\\d+)h\\s*(\\d+)min|(\\d+)h\\s*(\\d+)m'\n",
    "        \n",
    "    #Dentro de cada sección, buscamos por texto, que es cada parte de la sección (título, año, duración)\n",
    "    #Buscamos el patrón definido dentro de cada parte de la sección, y lo guardamos en la variable 'match'\n",
    "    match=re.search(patron, duracion)\n",
    "    if match:\n",
    "        #Si ha encontrado el patrón, guarda el primer grupo de captura (\\d+) en la variable 'horas' y el segundo (\\d+) en la variable 'minutos'\n",
    "        horas=match.group(1)\n",
    "        minutos=match.group(2)\n",
    "        horas_y_minutos.append((int(horas), int(minutos)))\n",
    "    else:\n",
    "        #Si no existe la duración en la sección, appendeamos None\n",
    "        horas_y_minutos.append(None)\n",
    "\n",
    "            \n",
    "    #Ahora, el contenido de horas_y_minutos es [(2, 2), (1, 30), (1, 47), (1, 44), ('NULL)]. Vamos a pasarlo a minutos.\n",
    "    #Iteramos horas_y_minutos\n",
    "    for tiempo in horas_y_minutos:\n",
    "        #Si es 'NULL', appendeamos None\n",
    "        if tiempo == None:\n",
    "            lista_duraciones.append(None)\n",
    "        #Se puede dar el caso de que sólo haya un dígito, por ejemplo 2 (2 horas exactas). De ser así, multiplicamos las horas por 60.\n",
    "        elif len(tiempo)==1:\n",
    "            lista_duraciones.append(tiempo[0]*60)\n",
    "        else:\n",
    "            #Si hay más de un dígito, multiplicamos el primero por 60 y le sumamos los minutos.\n",
    "            lista_duraciones.append((tiempo[0]*60) + (tiempo[1]))\n",
    "            \n",
    "\n",
    "\n",
    "#Cerramos el navegador      \n",
    "driver.close()   "
   ]
  },
  {
   "cell_type": "markdown",
   "metadata": {},
   "source": [
    "6. Extraemos datos de Rotten Tomatoes"
   ]
  },
  {
   "cell_type": "code",
   "execution_count": 55,
   "metadata": {},
   "outputs": [
    {
     "name": "stderr",
     "output_type": "stream",
     "text": [
      "100%|██████████| 1000/1000 [5:16:00<00:00, 18.96s/it] \n"
     ]
    }
   ],
   "source": [
    "#1. Entramos en la website the 'rotten tomatoes' y aceptamos cookies\n",
    "driver=webdriver.Chrome()\n",
    "driver.get('https://www.rottentomatoes.com/')\n",
    "driver.maximize_window()\n",
    "driver.find_element('css selector', '#onetrust-accept-btn-handler').click()\n",
    "sleep(3)\n",
    "\n",
    "#2. Iteramos el zip para extraer su puntuación\n",
    "for titulo, año in tqdm(zip_pelis_cortos):\n",
    "\n",
    "    #Intentamos buscar por el título; si existe entra en el primer resultado; de lo contrario, appenda un mensaje de 'NULL' (ponemos NULL para que las futuras consultas en SQL sean más prácticas)\n",
    "    try: #Buscamos la peli por título y año en la barra del buscador\n",
    "        driver.find_element('css selector', '#header-main > search-algolia > search-algolia-controls > input').send_keys(f'{titulo} {año}', Keys.ENTER)\n",
    "        sleep(3) #Hacemos click en el primer resultado\n",
    "        driver.find_element('css selector', '#search-results > search-page-result:nth-child(2) > ul > search-page-media-row:nth-child(1) > a:nth-child(2)').click()\n",
    "        sleep(3)\n",
    "        try: #busca el tomatómetro y, si existe, lo appendea en la lista_punt_tomato\n",
    "            lista_puntu_tomato.append(driver.find_element('css selector', '#modules-wrap > div.media-scorecard.no-border > media-scorecard > rt-button:nth-child(3) > rt-text').text)\n",
    "        except: #si no tiene tomatómetro, appendea 'NULL'\n",
    "            lista_puntu_tomato.append(None)\n",
    "        sleep(3)\n",
    "    except: #si la peli no existe devuelve None\n",
    "        lista_puntu_tomato.append(None)\n",
    "\n",
    "#Cerramos el navegador      \n",
    "driver.close() "
   ]
  },
  {
   "cell_type": "markdown",
   "metadata": {},
   "source": [
    "7. Unimos todas las listas en un zip y construimos el DataFrame"
   ]
  },
  {
   "cell_type": "code",
   "execution_count": 109,
   "metadata": {},
   "outputs": [
    {
     "data": {
      "text/plain": [
       "1000"
      ]
     },
     "execution_count": 109,
     "metadata": {},
     "output_type": "execute_result"
    }
   ],
   "source": [
    "zip_fase2=zip(lista_id, lista_puntu_IMDB, lista_puntu_tomato, lista_dires, lista_guionista, lista_argumentos, lista_duraciones, lista_nombre_pelis)\n",
    "lista_tuplas_fase2=list(zip_fase2)\n",
    "len(lista_tuplas_fase2)"
   ]
  },
  {
   "cell_type": "code",
   "execution_count": 110,
   "metadata": {},
   "outputs": [],
   "source": [
    "df_fase2=pd.DataFrame(lista_tuplas_fase2)\n",
    "df_fase2.columns=['Id_pelicula', 'Puntuacion_imdb', 'Puntuacion_rotten', 'Directores', 'Guionistas', 'Argumento', 'Duracion', 'Nombre_pelicula']"
   ]
  },
  {
   "cell_type": "code",
   "execution_count": 111,
   "metadata": {},
   "outputs": [],
   "source": [
    "df_fase2.to_csv(\"Fase2.csv\", index=False)"
   ]
  }
 ],
 "metadata": {
  "kernelspec": {
   "display_name": "base",
   "language": "python",
   "name": "python3"
  },
  "language_info": {
   "codemirror_mode": {
    "name": "ipython",
    "version": 3
   },
   "file_extension": ".py",
   "mimetype": "text/x-python",
   "name": "python",
   "nbconvert_exporter": "python",
   "pygments_lexer": "ipython3",
   "version": "3.11.2"
  }
 },
 "nbformat": 4,
 "nbformat_minor": 2
}
