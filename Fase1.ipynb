{
 "cells": [
  {
   "cell_type": "markdown",
   "metadata": {},
   "source": [
    "# Fase 1: Extracción de Datos de API de MoviesDataset"
   ]
  },
  {
   "cell_type": "markdown",
   "metadata": {},
   "source": [
    "API: https://rapidapi.com/SAdrian/api/moviesdatabase"
   ]
  },
  {
   "cell_type": "code",
   "execution_count": 1,
   "metadata": {},
   "outputs": [],
   "source": [
    "#Importamos las librerias necesarias\n",
    "from bs4 import BeautifulSoup\n",
    "import pandas as pd\n",
    "import requests\n",
    "import re\n",
    "from time import sleep\n",
    "\n",
    "#importamos librerias de selenium\n",
    "from selenium import webdriver\n",
    "from webdriver_manager.chrome import ChromeDriverManager\n",
    "from selenium.webdriver.common.keys import Keys\n",
    "from selenium.webdriver.support.ui import Select\n",
    "\n",
    "# Importar librerías para pausar la ejecución\n",
    "# -----------------------------------------------------------------------\n",
    "from time import sleep  # Sleep se utiliza para pausar la ejecución del programa por un número de segundos.\n",
    "\n",
    "# Configuraciones\n",
    "# -----------------------------------------------------------------------\n",
    "pd.set_option('display.max_columns', None)  # Establece una opción de Pandas para mostrar todas las columnas de un DataFrame."
   ]
  },
  {
   "cell_type": "markdown",
   "metadata": {},
   "source": [
    "## API Keys:\n",
    "\n",
    "- API_key Sharon = '2d7083a699mshd0e8039e2063bedp140338jsn9b141653fce1'\n",
    "- API_key3 Silvia = '039163dca0msh7ecfddf47a57b42p193f39jsn80c27500a5c2'\n",
    "- API_key3 Fer  = 'd215e5295fmsh4ea493c17eb16a6p1ad050jsnd6897569237c'\n",
    "- API_key Isa1  = '7a833b5f94msh046ef16d4b5eb88p18a187jsn006b25582aff'\n",
    "- API_key Isa2 = '555502744dmsh2f20b5fd2ccbb41p11ac03jsndaa25d7ef539'\n",
    "- API_key Nuria1 = '0d34f7de1bmsh8ff8ef70a80e175p156753jsn5ea1edd82423'\n",
    "- API_key Nuria2 = '505782c7fbmsh5a469e43b5fecf5p138dfajsna7d8efc4677f''\n",
    "\n"
   ]
  },
  {
   "cell_type": "code",
   "execution_count": 2,
   "metadata": {},
   "outputs": [],
   "source": [
    "#creamos el diccionario donde alamcenaremos la información\n",
    "dic_API_Pelis = {'Tipo':[],\n",
    "                 'Nombre':[],\n",
    "                 'Año_estreno':[],\n",
    "                 'Mes_estreno': [],\n",
    "                 'Id':[],\n",
    "                 'Genero':[]}\n",
    "\n",
    "#Creamos varias listas para guardar la información de cada key del diccionario que nos devuelve la función. \n",
    "lista_tipos = []\n",
    "lista_nombre = []\n",
    "lista_anno = []\n",
    "lista_mes = []\n",
    "lista_id = []\n",
    "lista_generos = []\n",
    "\n",
    "#creamos las variables relacionadas con el ENDPOINT\n",
    "url = \"https://moviesdatabase.p.rapidapi.com/titles\"\n",
    "\n",
    "# creamos una lista para almacenar las respuestas de la funcion de llamada a la API por si las queremos consultar\n",
    "lista_respuestas = []\n",
    "lista_info_respuestas = []\n",
    "\n",
    "# creamos una lista con los tipos que queremos buscar\n",
    "titleType_list = ['movie', 'short']\n"
   ]
  },
  {
   "cell_type": "code",
   "execution_count": 3,
   "metadata": {},
   "outputs": [],
   "source": [
    "# Definimos una fucnción para extraer información de la API y almacenarla en un diccionario\n",
    "\n",
    "def llamar_API (url,type,year,genere,**dict):\n",
    "    '''\n",
    "    Esta función realiza una llamada a una API a partir de una url y guarda la información en un diccionario.\n",
    "\n",
    "    Parametros:\n",
    "    -----------\n",
    "    url (str): la dirección url de la API a la que queremos hacer la llamada\n",
    "    type (str): El tipo de pelícua que queremos buscar. \n",
    "    year (str): El año de la película que queremos buscar.\n",
    "    genere (dtr): El género que ueremos buscar. \n",
    "    dict (dict): el diccionario dónde se almacenará la información\n",
    "\n",
    "    Returns:\n",
    "    -------\n",
    "    dict (dict): el diccionario donde se almacenará la información\n",
    "    '''\n",
    "    #definimos la querystring \n",
    "    querystring = {\"titleType\":type,\"year\":year,\"genre\":genere}\n",
    "\n",
    "    #definimos una lista con todas las API__key\n",
    "    API_key_list = ['2d7083a699mshd0e8039e2063bedp140338jsn9b141653fce1',\n",
    "                    '039163dca0msh7ecfddf47a57b42p193f39jsn80c27500a5c2', \n",
    "                    'd215e5295fmsh4ea493c17eb16a6p1ad050jsnd6897569237c', \n",
    "                    '7a833b5f94msh046ef16d4b5eb88p18a187jsn006b25582aff',\n",
    "                    '555502744dmsh2f20b5fd2ccbb41p11ac03jsndaa25d7ef539',\n",
    "                    '0d34f7de1bmsh8ff8ef70a80e175p156753jsn5ea1edd82423',\n",
    "                    '505782c7fbmsh5a469e43b5fecf5p138dfajsna7d8efc4677f' ]\n",
    "\n",
    "    #Asignamos un valor inicial a la API_key\n",
    "    API_key = API_key_list[0]\n",
    "        \n",
    "\n",
    "    #iniciamos un loop while para navegar por las distintas páginas\n",
    "    while url.startswith('https'):\n",
    "\n",
    "        #definimos el headers, necesario para hacer la llamada a la API\n",
    "        headers = {\"X-RapidAPI-Key\": API_key,\"X-RapidAPI-Host\": \"moviesdatabase.p.rapidapi.com\"} \n",
    "\n",
    "        #realizmos la llamada \n",
    "        response_pelis = requests.get(url, headers=headers, params=querystring)\n",
    "\n",
    "        #almacenamos los códigos y la informacion de respuesta por si lo queremos consultar\n",
    "        lista_respuestas.append(response_pelis.status_code)\n",
    "        lista_info_respuestas.append(response_pelis.reason)\n",
    "\n",
    "        #comprobamos si la respuesta a la llamada ha sido exitosa = 200\n",
    "        if response_pelis.status_code == 200:\n",
    "\n",
    "            #convertimos los resulatos a formato json\n",
    "            js_response_pelis = response_pelis.json()\n",
    "\n",
    "            #guardamos la inforación de la API dónde tenemos la dirección de la siguiente página\n",
    "            next = js_response_pelis['next']\n",
    "\n",
    "            #guardamos la parte donde tenemos la infomación en una variable\n",
    "            info_pelis = js_response_pelis['results']\n",
    "\n",
    "            #guardamos toda la información en el diccionario con un for loop    \n",
    "            for peli in info_pelis:\n",
    "\n",
    "                dict['Genero'].append(genere)\n",
    "                dict['Tipo'].append(peli['titleType']['text'])\n",
    "                dict['Nombre'].append(peli['titleText']['text'])\n",
    "                dict['Id'].append(peli['id'])\n",
    "                dict['Año_estreno'].append(peli['releaseYear']['year'])\n",
    "\n",
    "                #Hacemos un try/expect para las películas que no se han estrenado todavía            \n",
    "                try:\n",
    "                    dict['Mes_estreno'].append(peli['releaseDate']['month'])\n",
    "                except:            \n",
    "                    dict['Mes_estreno'].append('por estrenar')\n",
    "\n",
    "            #iniciamos el loop try-except para que cree la variable de la nueva url mientras tengamos una url en ´next´\n",
    "            try:\n",
    "                #definimos la base de la nueva url\n",
    "                url_fixed = \"https://moviesdatabase.p.rapidapi.com\"\n",
    "                #definimos la nueva url\n",
    "                url=url_fixed+next\n",
    "                #definimos el nuevo querystring\n",
    "                querystring = {}\n",
    "\n",
    "            except:\n",
    "                break\n",
    "        \n",
    "        #definimos un elif en caso de que la llamada nos diga que hemos hecho demasiadas requests = 429\n",
    "        elif response_pelis.status_code == 429:\n",
    "\n",
    "            #comprobamos si el la API key NO es la última de la lista de las API_keys\n",
    "            if API_key_list.index(API_key) < len(API_key_list)-1:\n",
    "\n",
    "                #cambiamos la API_key por la próxima en la lista\n",
    "                i = API_key_list.index(API_key)\n",
    "                API_key = API_key_list[i+1]\n",
    "\n",
    "            #si la API key SI es la última en la lista, volvemos a asignarle la primera de la lista\n",
    "            else:\n",
    "                API_key = API_key_list[0] \n",
    "\n",
    "            #le decimos al código que continue con el while loop    \n",
    "            continue\n",
    "\n",
    "               \n",
    "        #definimos una opción para que nos diga el tipo de error que nos ha dado en el caso de que la respuesta a la llamada no sea ni 200 ni 429.\n",
    "        else:\n",
    "            print(f'Error {response_pelis.status_code} en la llamada a la API')\n",
    "            continue\n",
    "\n",
    "\n",
    "    #mostramos los resultados\n",
    "    if response_pelis.status_code == 200:\n",
    "        print(f'Fin: Se han añadido l@s {type}s del género {genere} a tu diccionario.')"
   ]
  },
  {
   "cell_type": "code",
   "execution_count": 4,
   "metadata": {},
   "outputs": [
    {
     "name": "stdout",
     "output_type": "stream",
     "text": [
      "Año: 2010\n",
      "Fin: Se han añadido l@s movies del género Comedy a tu diccionario.\n",
      "Fin: Se han añadido l@s shorts del género Comedy a tu diccionario.\n",
      "Año: 2011\n",
      "Fin: Se han añadido l@s movies del género Comedy a tu diccionario.\n",
      "Fin: Se han añadido l@s shorts del género Comedy a tu diccionario.\n",
      "Año: 2012\n",
      "Fin: Se han añadido l@s movies del género Comedy a tu diccionario.\n",
      "Fin: Se han añadido l@s shorts del género Comedy a tu diccionario.\n",
      "Año: 2013\n",
      "Fin: Se han añadido l@s movies del género Comedy a tu diccionario.\n",
      "Fin: Se han añadido l@s shorts del género Comedy a tu diccionario.\n",
      "Año: 2014\n",
      "Fin: Se han añadido l@s movies del género Comedy a tu diccionario.\n",
      "Fin: Se han añadido l@s shorts del género Comedy a tu diccionario.\n",
      "Año: 2015\n",
      "Fin: Se han añadido l@s movies del género Comedy a tu diccionario.\n",
      "Fin: Se han añadido l@s shorts del género Comedy a tu diccionario.\n",
      "Año: 2016\n",
      "Fin: Se han añadido l@s movies del género Comedy a tu diccionario.\n",
      "Fin: Se han añadido l@s shorts del género Comedy a tu diccionario.\n",
      "Año: 2017\n",
      "Fin: Se han añadido l@s movies del género Comedy a tu diccionario.\n",
      "Fin: Se han añadido l@s shorts del género Comedy a tu diccionario.\n",
      "Año: 2018\n",
      "Error 502 en la llamada a la API\n",
      "Fin: Se han añadido l@s movies del género Comedy a tu diccionario.\n",
      "Fin: Se han añadido l@s shorts del género Comedy a tu diccionario.\n",
      "Año: 2019\n",
      "Fin: Se han añadido l@s movies del género Comedy a tu diccionario.\n",
      "Fin: Se han añadido l@s shorts del género Comedy a tu diccionario.\n",
      "Año: 2020\n",
      "Fin: Se han añadido l@s movies del género Comedy a tu diccionario.\n",
      "Fin: Se han añadido l@s shorts del género Comedy a tu diccionario.\n",
      "Año: 2021\n",
      "Fin: Se han añadido l@s movies del género Comedy a tu diccionario.\n",
      "Fin: Se han añadido l@s shorts del género Comedy a tu diccionario.\n",
      "Año: 2022\n",
      "Fin: Se han añadido l@s movies del género Comedy a tu diccionario.\n",
      "Fin: Se han añadido l@s shorts del género Comedy a tu diccionario.\n",
      "Año: 2023\n",
      "Fin: Se han añadido l@s movies del género Comedy a tu diccionario.\n",
      "Fin: Se han añadido l@s shorts del género Comedy a tu diccionario.\n",
      "Año: 2024\n",
      "Fin: Se han añadido l@s movies del género Comedy a tu diccionario.\n",
      "Fin: Se han añadido l@s shorts del género Comedy a tu diccionario.\n"
     ]
    }
   ],
   "source": [
    "# Definimos el género \n",
    "# genere = 'Action'\n",
    "# genere = 'Drama'\n",
    "genere = 'Comedy'\n",
    "\n",
    "#Iteramos por cada año, desde el 2010 hasta el 2025 (para que incluya el 2024).\n",
    "for year in range(2010,2025):\n",
    "    print('Año:', year)\n",
    "\n",
    "    #Iteramos por cada tipo: Shot and Movie\n",
    "    for type in titleType_list:\n",
    "\n",
    "        #iniciamos la funcion que llama a la API     \n",
    "        llamar_API(url,type, year, genere, **dic_API_Pelis)\n",
    "\n",
    "#Añadimos la información en las listas con un extend\n",
    "lista_tipos.extend(dic_API_Pelis['Tipo'])\n",
    "lista_nombre.extend(dic_API_Pelis['Nombre'])\n",
    "lista_anno.extend(dic_API_Pelis['Año_estreno'])\n",
    "lista_mes.extend(dic_API_Pelis['Mes_estreno'])\n",
    "lista_id.extend(dic_API_Pelis['Id'])\n",
    "lista_generos.extend(dic_API_Pelis['Genero'])"
   ]
  },
  {
   "cell_type": "markdown",
   "metadata": {},
   "source": [
    "## Información total obtenida:\n",
    "\n",
    "* ACTION 2010 to 2024 : 71047, duplicated 25306, clean 45310 \n",
    "* DRAMA 2010 to 2024 : 293028, duplicated 0, clean 293028\n",
    "* COMEDY 2010 to 2024 : 155444, duplicated 0, clean 155444"
   ]
  },
  {
   "cell_type": "code",
   "execution_count": null,
   "metadata": {},
   "outputs": [],
   "source": [
    "#Creamos un zip con las listas que hemos creado para que nos guarde la infoamción de cada una de las pelis en una tupla\n",
    "# y guardamos las tuplas en una lista\n",
    "zip_fase1 = zip(lista_tipos, lista_nombre, lista_anno, lista_mes, lista_id, lista_generos)\n",
    "lista_tuplas_fase1 = list(zip_fase1)\n",
    "len(lista_tuplas_fase1)"
   ]
  },
  {
   "cell_type": "code",
   "execution_count": 7,
   "metadata": {},
   "outputs": [],
   "source": [
    "# Convertimos la lista de tuplas con la informacion a Data Frame\n",
    "df_fase1=pd.DataFrame(lista_tuplas_fase1)\n",
    "df_fase1.columns = ['tipo_pelicula', 'titulo_pelicula', 'anno_estreno', 'mes_estreno', 'id_pelicula','genero_pelicula']\n"
   ]
  },
  {
   "cell_type": "code",
   "execution_count": 8,
   "metadata": {},
   "outputs": [
    {
     "name": "stdout",
     "output_type": "stream",
     "text": [
      "<class 'pandas.core.frame.DataFrame'>\n",
      "RangeIndex: 155444 entries, 0 to 155443\n",
      "Data columns (total 6 columns):\n",
      " #   Column           Non-Null Count   Dtype \n",
      "---  ------           --------------   ----- \n",
      " 0   tipo_pelicula    155444 non-null  object\n",
      " 1   titulo_pelicula  155444 non-null  object\n",
      " 2   anno_estreno     155444 non-null  int64 \n",
      " 3   mes_estreno      146921 non-null  object\n",
      " 4   id_pelicula      155444 non-null  object\n",
      " 5   genero_pelicula  155444 non-null  object\n",
      "dtypes: int64(1), object(5)\n",
      "memory usage: 7.1+ MB\n"
     ]
    }
   ],
   "source": [
    "# Visualozamos la información que tenemos\n",
    "df_fase1.info()"
   ]
  },
  {
   "cell_type": "code",
   "execution_count": 9,
   "metadata": {},
   "outputs": [
    {
     "data": {
      "text/plain": [
       "0"
      ]
     },
     "execution_count": 9,
     "metadata": {},
     "output_type": "execute_result"
    }
   ],
   "source": [
    "# Visualizamos la suma de valores nulos que tenemos\n",
    "df_fase1.duplicated().sum()"
   ]
  },
  {
   "cell_type": "code",
   "execution_count": 10,
   "metadata": {},
   "outputs": [],
   "source": [
    "#Borramos los duplicados y nos aseguramos que si hay elementos sin valor le aplicamos N/A\n",
    "df_fase1_final = df_fase1.drop_duplicates(subset='id_pelicula')\n",
    "df_fase1_final.fillna('N/A', inplace=True)"
   ]
  },
  {
   "cell_type": "code",
   "execution_count": 11,
   "metadata": {},
   "outputs": [
    {
     "name": "stdout",
     "output_type": "stream",
     "text": [
      "<class 'pandas.core.frame.DataFrame'>\n",
      "Int64Index: 155444 entries, 0 to 155443\n",
      "Data columns (total 6 columns):\n",
      " #   Column           Non-Null Count   Dtype \n",
      "---  ------           --------------   ----- \n",
      " 0   tipo_pelicula    155444 non-null  object\n",
      " 1   titulo_pelicula  155444 non-null  object\n",
      " 2   anno_estreno     155444 non-null  int64 \n",
      " 3   mes_estreno      155444 non-null  object\n",
      " 4   id_pelicula      155444 non-null  object\n",
      " 5   genero_pelicula  155444 non-null  object\n",
      "dtypes: int64(1), object(5)\n",
      "memory usage: 8.3+ MB\n"
     ]
    }
   ],
   "source": [
    "# Volvemos a visualizar la información que tenemos ya limpia\n",
    "df_fase1_final.info()"
   ]
  },
  {
   "cell_type": "code",
   "execution_count": 12,
   "metadata": {},
   "outputs": [],
   "source": [
    "# Convertimos el DataFrame a formato .csv\n",
    "ruta = f'https://raw.githubusercontent.com/fernandaMarti/Proyecto-da-promo-H-modulo-2-team1-cine_freaks/main/Fase1_csv/Fase1_2010_to_2024_{genere}.csv'\n",
    "df_fase1_final.to_csv(ruta, index=False)"
   ]
  }
 ],
 "metadata": {
  "kernelspec": {
   "display_name": "base",
   "language": "python",
   "name": "python3"
  },
  "language_info": {
   "codemirror_mode": {
    "name": "ipython",
    "version": 3
   },
   "file_extension": ".py",
   "mimetype": "text/x-python",
   "name": "python",
   "nbconvert_exporter": "python",
   "pygments_lexer": "ipython3",
   "version": "3.9.7"
  }
 },
 "nbformat": 4,
 "nbformat_minor": 2
}
